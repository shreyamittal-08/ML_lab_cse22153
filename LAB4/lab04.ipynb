{
 "cells": [
  {
   "cell_type": "code",
   "execution_count": 2,
   "id": "a971c4ae",
   "metadata": {},
   "outputs": [],
   "source": [
    "import pandas as pd\n",
    "\n",
    "# Loading the CSV file into a DataFrame\n",
    "df = pd.read_csv('DCT_withoutduplicate 1.csv')  \n",
    "\n",
    "\n",
    "# Assuming the labels are in the last column and the features are in the rest\n",
    "X = df.iloc[:, :-1].values  # All columns except the last one as features\n",
    "y = df.iloc[:, -1].values   # The last column as the target/labels\n"
   ]
  },
  {
   "cell_type": "code",
   "execution_count": 5,
   "id": "d971427b",
   "metadata": {},
   "outputs": [
    {
     "name": "stdout",
     "output_type": "stream",
     "text": [
      "Training Data: Precision: 0.9223044491858059, Recall: 0.9268716705731361, F1-Score: 0.9239783593514151\n",
      "Test Data: Precision: 0.7789941389440762, Recall: 0.7897228951569973, F1-Score: 0.7733281126095158\n"
     ]
    },
    {
     "name": "stderr",
     "output_type": "stream",
     "text": [
      "/Users/shreyamittal/anaconda3/lib/python3.11/site-packages/sklearn/metrics/_classification.py:1469: UndefinedMetricWarning: Precision is ill-defined and being set to 0.0 in labels with no predicted samples. Use `zero_division` parameter to control this behavior.\n",
      "  _warn_prf(average, modifier, msg_start, len(result))\n",
      "/Users/shreyamittal/anaconda3/lib/python3.11/site-packages/sklearn/metrics/_classification.py:1469: UndefinedMetricWarning: Precision is ill-defined and being set to 0.0 in labels with no predicted samples. Use `zero_division` parameter to control this behavior.\n",
      "  _warn_prf(average, modifier, msg_start, len(result))\n"
     ]
    }
   ],
   "source": [
    "from sklearn.model_selection import train_test_split\n",
    "from sklearn.metrics import confusion_matrix, precision_score, recall_score, f1_score\n",
    "from sklearn.neighbors import KNeighborsClassifier\n",
    "\n",
    "# Split the data into training and test sets\n",
    "X_train, X_test, y_train, y_test = train_test_split(X, y, test_size=0.2, random_state=42)\n",
    "\n",
    "# Train a kNN classifier\n",
    "knn = KNeighborsClassifier(n_neighbors=3)\n",
    "knn.fit(X_train, y_train)\n",
    "\n",
    "# Predict on training and test data\n",
    "y_train_pred = knn.predict(X_train)\n",
    "y_test_pred = knn.predict(X_test)\n",
    "\n",
    "# Confusion matrix and metrics for training data\n",
    "conf_matrix_train = confusion_matrix(y_train, y_train_pred)\n",
    "precision_train = precision_score(y_train, y_train_pred, average='macro')\n",
    "recall_train = recall_score(y_train, y_train_pred, average='macro')\n",
    "f1_train = f1_score(y_train, y_train_pred, average='macro')\n",
    "\n",
    "# Confusion matrix and metrics for test data\n",
    "conf_matrix_test = confusion_matrix(y_test, y_test_pred)\n",
    "precision_test = precision_score(y_test, y_test_pred, average='macro')\n",
    "recall_test = recall_score(y_test, y_test_pred, average='macro')\n",
    "f1_test = f1_score(y_test, y_test_pred, average='macro')\n",
    "\n",
    "print(\"Training Data: Precision: {}, Recall: {}, F1-Score: {}\".format(precision_train, recall_train, f1_train))\n",
    "print(\"Test Data: Precision: {}, Recall: {}, F1-Score: {}\".format(precision_test, recall_test, f1_test))\n"
   ]
  }
 ],
 "metadata": {
  "kernelspec": {
   "display_name": "Python 3 (ipykernel)",
   "language": "python",
   "name": "python3"
  },
  "language_info": {
   "codemirror_mode": {
    "name": "ipython",
    "version": 3
   },
   "file_extension": ".py",
   "mimetype": "text/x-python",
   "name": "python",
   "nbconvert_exporter": "python",
   "pygments_lexer": "ipython3",
   "version": "3.11.5"
  }
 },
 "nbformat": 4,
 "nbformat_minor": 5
}
