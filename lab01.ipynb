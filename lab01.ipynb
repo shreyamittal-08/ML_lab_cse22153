{
  "nbformat": 4,
  "nbformat_minor": 0,
  "metadata": {
    "colab": {
      "provenance": []
    },
    "kernelspec": {
      "name": "python3",
      "display_name": "Python 3"
    },
    "language_info": {
      "name": "python"
    }
  },
  "cells": [
    {
      "cell_type": "code",
      "source": [
        "def find_pairs(nums):\n",
        "  pairs=[]\n",
        "  for n in nums:\n",
        "    com=10-n\n",
        "    if com in nums:\n",
        "      pairs.append((n,com))\n",
        "  return pairs\n",
        "\n",
        "nums=[2,7,4,1,3,6]\n",
        "pairs=find_pairs(nums)\n",
        "print(pairs)"
      ],
      "metadata": {
        "colab": {
          "base_uri": "https://localhost:8080/"
        },
        "id": "mIMZ4Kc4pyMR",
        "outputId": "cf1e5dfe-ff12-4dbb-b50f-f866eaf3c282"
      },
      "execution_count": 4,
      "outputs": [
        {
          "output_type": "stream",
          "name": "stdout",
          "text": [
            "[(7, 3), (4, 6), (3, 7), (6, 4)]\n"
          ]
        }
      ]
    },
    {
      "cell_type": "code",
      "execution_count": 11,
      "metadata": {
        "colab": {
          "base_uri": "https://localhost:8080/"
        },
        "collapsed": true,
        "id": "29TiPUZvmOWf",
        "outputId": "eeff7bc8-98b9-45f6-f0aa-c88d5e681a35"
      },
      "outputs": [
        {
          "output_type": "stream",
          "name": "stdout",
          "text": [
            "Enter the input (press Enter to stop): 6\n",
            "Enter the input (press Enter to stop): 7\n",
            "Enter the input (press Enter to stop): 3\n",
            "Enter the input (press Enter to stop): 1\n",
            "Enter the input (press Enter to stop): \n",
            "[6.0, 7.0, 3.0, 1.0]\n",
            "The range of the list is 1.0 - 7.0 = 6.0\n"
          ]
        }
      ],
      "source": [
        "def input_list(nums):\n",
        "    n = input(\"Enter the input (press Enter to stop): \")\n",
        "    count = 0\n",
        "    while n != '':\n",
        "        nums.append(float(n))\n",
        "        count += 1\n",
        "        n = input(\"Enter the input (press Enter to stop): \")\n",
        "    if count < 3:\n",
        "        print(\"Error: You must enter at least 3 integers.\")\n",
        "        return []\n",
        "    return nums\n",
        "\n",
        "def range_list(nums):\n",
        "    if len(nums) < 3:\n",
        "        print(\"Error: The list must contain at least 3 elements.\")\n",
        "        return\n",
        "\n",
        "    min_value = nums[0]\n",
        "    max_value = nums[0]\n",
        "    for n in nums:\n",
        "        if n < min_value:\n",
        "            min_value = n\n",
        "        if n > max_value:\n",
        "            max_value = n\n",
        "\n",
        "    range_value = max_value - min_value\n",
        "    print(f\"The range of the list is {min_value} - {max_value} = {range_value}\")\n",
        "\n",
        "nums = []\n",
        "pairs = input_list(nums)\n",
        "print(pairs)\n",
        "range_list(nums)\n"
      ]
    },
    {
      "cell_type": "code",
      "source": [
        "def matrix_multiply(A, B):\n",
        "    n = len(A)\n",
        "    result = [[0] * n for _ in range(n)]\n",
        "    for i in range(n):\n",
        "        for j in range(n):\n",
        "            for k in range(n):\n",
        "                result[i][j] += A[i][k] * B[k][j]\n",
        "    return result\n",
        "\n",
        "def matrix_power(A, m):\n",
        "    if m < 0:\n",
        "        return \"Error: The exponent must be a positive integer.\"\n",
        "\n",
        "    n = len(A)\n",
        "    for row in A:\n",
        "        if len(row) != n:\n",
        "            return \"Error: The input must be a square matrix.\"\n",
        "\n",
        "    result = [[1 if i == j else 0 for j in range(n)] for i in range(n)]\n",
        "\n",
        "    base = A\n",
        "    while m > 0:\n",
        "        if m % 2 == 1:\n",
        "            result = matrix_multiply(result, base)\n",
        "        base = matrix_multiply(base, base)\n",
        "        m //= 2\n",
        "\n",
        "    return result\n",
        "\n",
        "A = [\n",
        "    [1, 2],\n",
        "    [3, 4]]\n",
        "\n",
        "m = 3\n",
        "result = matrix_power(A, m)\n",
        "print(\"Matrix A:\")\n",
        "for row in A:\n",
        "    print(row)\n",
        "print(f\"A^{m}:\")\n",
        "for row in result:\n",
        "    print(row)\n"
      ],
      "metadata": {
        "colab": {
          "base_uri": "https://localhost:8080/"
        },
        "id": "_rb-nQZKp2VT",
        "outputId": "478c3a16-1fa5-49ae-f3e7-f5aa9e60af58"
      },
      "execution_count": 8,
      "outputs": [
        {
          "output_type": "stream",
          "name": "stdout",
          "text": [
            "Matrix A:\n",
            "[1, 2]\n",
            "[3, 4]\n",
            "A^3:\n",
            "[37, 54]\n",
            "[81, 118]\n"
          ]
        }
      ]
    },
    {
      "cell_type": "code",
      "source": [
        "def highest_occur(inputstr):\n",
        "    char_count = {}\n",
        "\n",
        "    for char in inputstr:\n",
        "        if char.isalpha():\n",
        "            char = char.lower()\n",
        "            if char in char_count:\n",
        "                char_count[char] += 1\n",
        "            else:\n",
        "                char_count[char] = 1\n",
        "\n",
        "    max_char = None\n",
        "    max_count = 0\n",
        "    for char, count in char_count.items():\n",
        "        if count > max_count:\n",
        "            max_char = char\n",
        "            max_count = count\n",
        "\n",
        "    return max_char, max_count\n",
        "\n",
        "inputstr = input(\"Enter a string: \")\n",
        "max_char, max_count = highest_occur(inputstr)\n",
        "\n",
        "if max_char:\n",
        "    print(f\"The highest occurring character is '{max_char}' with {max_count} occurrences.\")\n",
        "else:\n",
        "    print(\"No alphabetic characters found in the input string.\")\n"
      ],
      "metadata": {
        "colab": {
          "base_uri": "https://localhost:8080/"
        },
        "id": "WKD_cI_gvbye",
        "outputId": "5e8b9bed-0ff5-400f-86df-1d2229679a86"
      },
      "execution_count": 10,
      "outputs": [
        {
          "output_type": "stream",
          "name": "stdout",
          "text": [
            "Enter a string: shyshdgsh\n",
            "The highest occurring character is 's' with 3 occurrences.\n"
          ]
        }
      ]
    }
  ]
}