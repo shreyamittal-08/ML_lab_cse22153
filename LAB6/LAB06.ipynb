{
 "cells": [
  {
   "cell_type": "code",
   "execution_count": 5,
   "id": "4ba954f9",
   "metadata": {},
   "outputs": [],
   "source": [
    "import pandas as pd\n",
    "def summation_unit(*inputs):\n",
    "    return sum(inputs)\n",
    "def step_func(x):\n",
    "    return 1 if x>=0 else 0\n",
    "def bipolar_step(x):\n",
    "    return 1 if x>=0 else -1\n"
   ]
  },
  {
   "cell_type": "code",
   "execution_count": null,
   "id": "be280587",
   "metadata": {},
   "outputs": [],
   "source": []
  }
 ],
 "metadata": {
  "kernelspec": {
   "display_name": "Python 3 (ipykernel)",
   "language": "python",
   "name": "python3"
  },
  "language_info": {
   "codemirror_mode": {
    "name": "ipython",
    "version": 3
   },
   "file_extension": ".py",
   "mimetype": "text/x-python",
   "name": "python",
   "nbconvert_exporter": "python",
   "pygments_lexer": "ipython3",
   "version": "3.11.5"
  }
 },
 "nbformat": 4,
 "nbformat_minor": 5
}
